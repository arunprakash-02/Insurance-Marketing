{
 "cells": [
  {
   "cell_type": "code",
   "execution_count": 2,
   "id": "9aa9e70f-532e-47ab-8084-892ad311d93a",
   "metadata": {},
   "outputs": [],
   "source": [
    "import pandas as pd\n",
    "import numpy as np\n",
    "import seaborn as sns\n",
    "import calendar\n",
    "from matplotlib import pyplot as plt"
   ]
  },
  {
   "cell_type": "code",
   "execution_count": 3,
   "id": "ac268b16-b753-4b59-9c27-25e5e528dd05",
   "metadata": {},
   "outputs": [
    {
     "data": {
      "text/html": [
       "<div>\n",
       "<style scoped>\n",
       "    .dataframe tbody tr th:only-of-type {\n",
       "        vertical-align: middle;\n",
       "    }\n",
       "\n",
       "    .dataframe tbody tr th {\n",
       "        vertical-align: top;\n",
       "    }\n",
       "\n",
       "    .dataframe thead th {\n",
       "        text-align: right;\n",
       "    }\n",
       "</style>\n",
       "<table border=\"1\" class=\"dataframe\">\n",
       "  <thead>\n",
       "    <tr style=\"text-align: right;\">\n",
       "      <th></th>\n",
       "      <th>Customer</th>\n",
       "      <th>State</th>\n",
       "      <th>Customer Lifetime Value</th>\n",
       "      <th>Response</th>\n",
       "      <th>Coverage</th>\n",
       "      <th>Education</th>\n",
       "      <th>Effective To Date</th>\n",
       "      <th>EmploymentStatus</th>\n",
       "      <th>Gender</th>\n",
       "      <th>Income</th>\n",
       "      <th>...</th>\n",
       "      <th>Months Since Policy Inception</th>\n",
       "      <th>Number of Open Complaints</th>\n",
       "      <th>Number of Policies</th>\n",
       "      <th>Policy Type</th>\n",
       "      <th>Policy</th>\n",
       "      <th>Renew Offer Type</th>\n",
       "      <th>Sales Channel</th>\n",
       "      <th>Total Claim Amount</th>\n",
       "      <th>Vehicle Class</th>\n",
       "      <th>Vehicle Size</th>\n",
       "    </tr>\n",
       "  </thead>\n",
       "  <tbody>\n",
       "    <tr>\n",
       "      <th>0</th>\n",
       "      <td>BU79786</td>\n",
       "      <td>Washington</td>\n",
       "      <td>2763.519279</td>\n",
       "      <td>No</td>\n",
       "      <td>Basic</td>\n",
       "      <td>Bachelor</td>\n",
       "      <td>2/24/11</td>\n",
       "      <td>Employed</td>\n",
       "      <td>F</td>\n",
       "      <td>56274</td>\n",
       "      <td>...</td>\n",
       "      <td>5</td>\n",
       "      <td>0</td>\n",
       "      <td>1</td>\n",
       "      <td>Corporate Auto</td>\n",
       "      <td>Corporate L3</td>\n",
       "      <td>Offer1</td>\n",
       "      <td>Agent</td>\n",
       "      <td>384.811147</td>\n",
       "      <td>Two-Door Car</td>\n",
       "      <td>Medsize</td>\n",
       "    </tr>\n",
       "    <tr>\n",
       "      <th>1</th>\n",
       "      <td>QZ44356</td>\n",
       "      <td>Arizona</td>\n",
       "      <td>6979.535903</td>\n",
       "      <td>No</td>\n",
       "      <td>Extended</td>\n",
       "      <td>Bachelor</td>\n",
       "      <td>1/31/11</td>\n",
       "      <td>Unemployed</td>\n",
       "      <td>F</td>\n",
       "      <td>0</td>\n",
       "      <td>...</td>\n",
       "      <td>42</td>\n",
       "      <td>0</td>\n",
       "      <td>8</td>\n",
       "      <td>Personal Auto</td>\n",
       "      <td>Personal L3</td>\n",
       "      <td>Offer3</td>\n",
       "      <td>Agent</td>\n",
       "      <td>1131.464935</td>\n",
       "      <td>Four-Door Car</td>\n",
       "      <td>Medsize</td>\n",
       "    </tr>\n",
       "    <tr>\n",
       "      <th>2</th>\n",
       "      <td>AI49188</td>\n",
       "      <td>Nevada</td>\n",
       "      <td>12887.431650</td>\n",
       "      <td>No</td>\n",
       "      <td>Premium</td>\n",
       "      <td>Bachelor</td>\n",
       "      <td>2/19/11</td>\n",
       "      <td>Employed</td>\n",
       "      <td>F</td>\n",
       "      <td>48767</td>\n",
       "      <td>...</td>\n",
       "      <td>38</td>\n",
       "      <td>0</td>\n",
       "      <td>2</td>\n",
       "      <td>Personal Auto</td>\n",
       "      <td>Personal L3</td>\n",
       "      <td>Offer1</td>\n",
       "      <td>Agent</td>\n",
       "      <td>566.472247</td>\n",
       "      <td>Two-Door Car</td>\n",
       "      <td>Medsize</td>\n",
       "    </tr>\n",
       "    <tr>\n",
       "      <th>3</th>\n",
       "      <td>WW63253</td>\n",
       "      <td>California</td>\n",
       "      <td>7645.861827</td>\n",
       "      <td>No</td>\n",
       "      <td>Basic</td>\n",
       "      <td>Bachelor</td>\n",
       "      <td>1/20/11</td>\n",
       "      <td>Unemployed</td>\n",
       "      <td>M</td>\n",
       "      <td>0</td>\n",
       "      <td>...</td>\n",
       "      <td>65</td>\n",
       "      <td>0</td>\n",
       "      <td>7</td>\n",
       "      <td>Corporate Auto</td>\n",
       "      <td>Corporate L2</td>\n",
       "      <td>Offer1</td>\n",
       "      <td>Call Center</td>\n",
       "      <td>529.881344</td>\n",
       "      <td>SUV</td>\n",
       "      <td>Medsize</td>\n",
       "    </tr>\n",
       "    <tr>\n",
       "      <th>4</th>\n",
       "      <td>HB64268</td>\n",
       "      <td>Washington</td>\n",
       "      <td>2813.692575</td>\n",
       "      <td>No</td>\n",
       "      <td>Basic</td>\n",
       "      <td>Bachelor</td>\n",
       "      <td>2/3/11</td>\n",
       "      <td>Employed</td>\n",
       "      <td>M</td>\n",
       "      <td>43836</td>\n",
       "      <td>...</td>\n",
       "      <td>44</td>\n",
       "      <td>0</td>\n",
       "      <td>1</td>\n",
       "      <td>Personal Auto</td>\n",
       "      <td>Personal L1</td>\n",
       "      <td>Offer1</td>\n",
       "      <td>Agent</td>\n",
       "      <td>138.130879</td>\n",
       "      <td>Four-Door Car</td>\n",
       "      <td>Medsize</td>\n",
       "    </tr>\n",
       "  </tbody>\n",
       "</table>\n",
       "<p>5 rows × 24 columns</p>\n",
       "</div>"
      ],
      "text/plain": [
       "  Customer       State  Customer Lifetime Value Response  Coverage Education  \\\n",
       "0  BU79786  Washington              2763.519279       No     Basic  Bachelor   \n",
       "1  QZ44356     Arizona              6979.535903       No  Extended  Bachelor   \n",
       "2  AI49188      Nevada             12887.431650       No   Premium  Bachelor   \n",
       "3  WW63253  California              7645.861827       No     Basic  Bachelor   \n",
       "4  HB64268  Washington              2813.692575       No     Basic  Bachelor   \n",
       "\n",
       "  Effective To Date EmploymentStatus Gender  Income  ...  \\\n",
       "0           2/24/11         Employed      F   56274  ...   \n",
       "1           1/31/11       Unemployed      F       0  ...   \n",
       "2           2/19/11         Employed      F   48767  ...   \n",
       "3           1/20/11       Unemployed      M       0  ...   \n",
       "4            2/3/11         Employed      M   43836  ...   \n",
       "\n",
       "  Months Since Policy Inception Number of Open Complaints  Number of Policies  \\\n",
       "0                             5                         0                   1   \n",
       "1                            42                         0                   8   \n",
       "2                            38                         0                   2   \n",
       "3                            65                         0                   7   \n",
       "4                            44                         0                   1   \n",
       "\n",
       "      Policy Type        Policy  Renew Offer Type  Sales Channel  \\\n",
       "0  Corporate Auto  Corporate L3            Offer1          Agent   \n",
       "1   Personal Auto   Personal L3            Offer3          Agent   \n",
       "2   Personal Auto   Personal L3            Offer1          Agent   \n",
       "3  Corporate Auto  Corporate L2            Offer1    Call Center   \n",
       "4   Personal Auto   Personal L1            Offer1          Agent   \n",
       "\n",
       "  Total Claim Amount  Vehicle Class Vehicle Size  \n",
       "0         384.811147   Two-Door Car      Medsize  \n",
       "1        1131.464935  Four-Door Car      Medsize  \n",
       "2         566.472247   Two-Door Car      Medsize  \n",
       "3         529.881344            SUV      Medsize  \n",
       "4         138.130879  Four-Door Car      Medsize  \n",
       "\n",
       "[5 rows x 24 columns]"
      ]
     },
     "execution_count": 3,
     "metadata": {},
     "output_type": "execute_result"
    }
   ],
   "source": [
    "data = pd.read_csv('/Users/arunprakash/Downloads/WA_Fn-UseC_-Marketing-Customer-Value-Analysis.csv')\n",
    "data.head()"
   ]
  },
  {
   "cell_type": "code",
   "execution_count": 4,
   "id": "51cd42d8-990c-4782-b0c5-44c3b6dc55af",
   "metadata": {},
   "outputs": [
    {
     "name": "stdout",
     "output_type": "stream",
     "text": [
      "<class 'pandas.core.frame.DataFrame'>\n",
      "RangeIndex: 9134 entries, 0 to 9133\n",
      "Data columns (total 24 columns):\n",
      " #   Column                         Non-Null Count  Dtype  \n",
      "---  ------                         --------------  -----  \n",
      " 0   Customer                       9134 non-null   object \n",
      " 1   State                          9134 non-null   object \n",
      " 2   Customer Lifetime Value        9134 non-null   float64\n",
      " 3   Response                       9134 non-null   object \n",
      " 4   Coverage                       9134 non-null   object \n",
      " 5   Education                      9134 non-null   object \n",
      " 6   Effective To Date              9134 non-null   object \n",
      " 7   EmploymentStatus               9134 non-null   object \n",
      " 8   Gender                         9134 non-null   object \n",
      " 9   Income                         9134 non-null   int64  \n",
      " 10  Location Code                  9134 non-null   object \n",
      " 11  Marital Status                 9134 non-null   object \n",
      " 12  Monthly Premium Auto           9134 non-null   int64  \n",
      " 13  Months Since Last Claim        9134 non-null   int64  \n",
      " 14  Months Since Policy Inception  9134 non-null   int64  \n",
      " 15  Number of Open Complaints      9134 non-null   int64  \n",
      " 16  Number of Policies             9134 non-null   int64  \n",
      " 17  Policy Type                    9134 non-null   object \n",
      " 18  Policy                         9134 non-null   object \n",
      " 19  Renew Offer Type               9134 non-null   object \n",
      " 20  Sales Channel                  9134 non-null   object \n",
      " 21  Total Claim Amount             9134 non-null   float64\n",
      " 22  Vehicle Class                  9134 non-null   object \n",
      " 23  Vehicle Size                   9134 non-null   object \n",
      "dtypes: float64(2), int64(6), object(16)\n",
      "memory usage: 1.7+ MB\n"
     ]
    }
   ],
   "source": [
    "data.info()"
   ]
  },
  {
   "cell_type": "code",
   "execution_count": 5,
   "id": "f22644ea-d564-4e9e-b6fc-ba0525c9f5c6",
   "metadata": {},
   "outputs": [
    {
     "data": {
      "text/plain": [
       "(9134, 24)"
      ]
     },
     "execution_count": 5,
     "metadata": {},
     "output_type": "execute_result"
    }
   ],
   "source": [
    "data.shape"
   ]
  },
  {
   "cell_type": "code",
   "execution_count": 6,
   "id": "f5e71470-2e6b-4084-b6b0-0738f1952b74",
   "metadata": {},
   "outputs": [
    {
     "data": {
      "text/html": [
       "<div>\n",
       "<style scoped>\n",
       "    .dataframe tbody tr th:only-of-type {\n",
       "        vertical-align: middle;\n",
       "    }\n",
       "\n",
       "    .dataframe tbody tr th {\n",
       "        vertical-align: top;\n",
       "    }\n",
       "\n",
       "    .dataframe thead th {\n",
       "        text-align: right;\n",
       "    }\n",
       "</style>\n",
       "<table border=\"1\" class=\"dataframe\">\n",
       "  <thead>\n",
       "    <tr style=\"text-align: right;\">\n",
       "      <th></th>\n",
       "      <th>Customer Lifetime Value</th>\n",
       "      <th>Income</th>\n",
       "      <th>Monthly Premium Auto</th>\n",
       "      <th>Months Since Last Claim</th>\n",
       "      <th>Months Since Policy Inception</th>\n",
       "      <th>Number of Open Complaints</th>\n",
       "      <th>Number of Policies</th>\n",
       "      <th>Total Claim Amount</th>\n",
       "    </tr>\n",
       "  </thead>\n",
       "  <tbody>\n",
       "    <tr>\n",
       "      <th>count</th>\n",
       "      <td>9134.000000</td>\n",
       "      <td>9134.000000</td>\n",
       "      <td>9134.000000</td>\n",
       "      <td>9134.000000</td>\n",
       "      <td>9134.000000</td>\n",
       "      <td>9134.000000</td>\n",
       "      <td>9134.000000</td>\n",
       "      <td>9134.000000</td>\n",
       "    </tr>\n",
       "    <tr>\n",
       "      <th>mean</th>\n",
       "      <td>8004.940475</td>\n",
       "      <td>37657.380009</td>\n",
       "      <td>93.219291</td>\n",
       "      <td>15.097000</td>\n",
       "      <td>48.064594</td>\n",
       "      <td>0.384388</td>\n",
       "      <td>2.966170</td>\n",
       "      <td>434.088794</td>\n",
       "    </tr>\n",
       "    <tr>\n",
       "      <th>std</th>\n",
       "      <td>6870.967608</td>\n",
       "      <td>30379.904734</td>\n",
       "      <td>34.407967</td>\n",
       "      <td>10.073257</td>\n",
       "      <td>27.905991</td>\n",
       "      <td>0.910384</td>\n",
       "      <td>2.390182</td>\n",
       "      <td>290.500092</td>\n",
       "    </tr>\n",
       "    <tr>\n",
       "      <th>min</th>\n",
       "      <td>1898.007675</td>\n",
       "      <td>0.000000</td>\n",
       "      <td>61.000000</td>\n",
       "      <td>0.000000</td>\n",
       "      <td>0.000000</td>\n",
       "      <td>0.000000</td>\n",
       "      <td>1.000000</td>\n",
       "      <td>0.099007</td>\n",
       "    </tr>\n",
       "    <tr>\n",
       "      <th>25%</th>\n",
       "      <td>3994.251794</td>\n",
       "      <td>0.000000</td>\n",
       "      <td>68.000000</td>\n",
       "      <td>6.000000</td>\n",
       "      <td>24.000000</td>\n",
       "      <td>0.000000</td>\n",
       "      <td>1.000000</td>\n",
       "      <td>272.258244</td>\n",
       "    </tr>\n",
       "    <tr>\n",
       "      <th>50%</th>\n",
       "      <td>5780.182197</td>\n",
       "      <td>33889.500000</td>\n",
       "      <td>83.000000</td>\n",
       "      <td>14.000000</td>\n",
       "      <td>48.000000</td>\n",
       "      <td>0.000000</td>\n",
       "      <td>2.000000</td>\n",
       "      <td>383.945434</td>\n",
       "    </tr>\n",
       "    <tr>\n",
       "      <th>75%</th>\n",
       "      <td>8962.167041</td>\n",
       "      <td>62320.000000</td>\n",
       "      <td>109.000000</td>\n",
       "      <td>23.000000</td>\n",
       "      <td>71.000000</td>\n",
       "      <td>0.000000</td>\n",
       "      <td>4.000000</td>\n",
       "      <td>547.514839</td>\n",
       "    </tr>\n",
       "    <tr>\n",
       "      <th>max</th>\n",
       "      <td>83325.381190</td>\n",
       "      <td>99981.000000</td>\n",
       "      <td>298.000000</td>\n",
       "      <td>35.000000</td>\n",
       "      <td>99.000000</td>\n",
       "      <td>5.000000</td>\n",
       "      <td>9.000000</td>\n",
       "      <td>2893.239678</td>\n",
       "    </tr>\n",
       "  </tbody>\n",
       "</table>\n",
       "</div>"
      ],
      "text/plain": [
       "       Customer Lifetime Value        Income  Monthly Premium Auto  \\\n",
       "count              9134.000000   9134.000000           9134.000000   \n",
       "mean               8004.940475  37657.380009             93.219291   \n",
       "std                6870.967608  30379.904734             34.407967   \n",
       "min                1898.007675      0.000000             61.000000   \n",
       "25%                3994.251794      0.000000             68.000000   \n",
       "50%                5780.182197  33889.500000             83.000000   \n",
       "75%                8962.167041  62320.000000            109.000000   \n",
       "max               83325.381190  99981.000000            298.000000   \n",
       "\n",
       "       Months Since Last Claim  Months Since Policy Inception  \\\n",
       "count              9134.000000                    9134.000000   \n",
       "mean                 15.097000                      48.064594   \n",
       "std                  10.073257                      27.905991   \n",
       "min                   0.000000                       0.000000   \n",
       "25%                   6.000000                      24.000000   \n",
       "50%                  14.000000                      48.000000   \n",
       "75%                  23.000000                      71.000000   \n",
       "max                  35.000000                      99.000000   \n",
       "\n",
       "       Number of Open Complaints  Number of Policies  Total Claim Amount  \n",
       "count                9134.000000         9134.000000         9134.000000  \n",
       "mean                    0.384388            2.966170          434.088794  \n",
       "std                     0.910384            2.390182          290.500092  \n",
       "min                     0.000000            1.000000            0.099007  \n",
       "25%                     0.000000            1.000000          272.258244  \n",
       "50%                     0.000000            2.000000          383.945434  \n",
       "75%                     0.000000            4.000000          547.514839  \n",
       "max                     5.000000            9.000000         2893.239678  "
      ]
     },
     "execution_count": 6,
     "metadata": {},
     "output_type": "execute_result"
    }
   ],
   "source": [
    "data. describe()"
   ]
  },
  {
   "cell_type": "markdown",
   "id": "62467ea1-6d48-4d75-9da2-a7b2e662f4aa",
   "metadata": {},
   "source": [
    "#Observation  \n",
    "#A. CUSTOMER   \n",
    "#1. Average Customer lifetime value is dollars 8004 and Maximum Customer Life time value is Dollars 83325   \n",
    "#2. Income range varies from 0 dollars to 99981 dollars averaging around 37657 dollars   \n",
    "#3. Highest claim amount is 2893 dollars averaging around 434 dollars  \n",
    "#B. PRODUCT  \n",
    "#1. Maximum number of open compliants is 5  \n",
    "#2. Maximum number of policies is 9  \n",
    "#3. Average premium amount is 93 dollars and highest goes upto 298 dollars\n"
   ]
  },
  {
   "cell_type": "code",
   "execution_count": 7,
   "id": "e631b42a-2f28-457f-961e-f83df4b7e63d",
   "metadata": {},
   "outputs": [
    {
     "data": {
      "text/plain": [
       "Customer                         0.0\n",
       "State                            0.0\n",
       "Customer Lifetime Value          0.0\n",
       "Response                         0.0\n",
       "Coverage                         0.0\n",
       "Education                        0.0\n",
       "Effective To Date                0.0\n",
       "EmploymentStatus                 0.0\n",
       "Gender                           0.0\n",
       "Income                           0.0\n",
       "Location Code                    0.0\n",
       "Marital Status                   0.0\n",
       "Monthly Premium Auto             0.0\n",
       "Months Since Last Claim          0.0\n",
       "Months Since Policy Inception    0.0\n",
       "Number of Open Complaints        0.0\n",
       "Number of Policies               0.0\n",
       "Policy Type                      0.0\n",
       "Policy                           0.0\n",
       "Renew Offer Type                 0.0\n",
       "Sales Channel                    0.0\n",
       "Total Claim Amount               0.0\n",
       "Vehicle Class                    0.0\n",
       "Vehicle Size                     0.0\n",
       "dtype: float64"
      ]
     },
     "execution_count": 7,
     "metadata": {},
     "output_type": "execute_result"
    }
   ],
   "source": [
    "data.isnull().mean()"
   ]
  },
  {
   "cell_type": "markdown",
   "id": "535bf533-5933-4e60-89df-25975c0df256",
   "metadata": {},
   "source": [
    "## outliers"
   ]
  },
  {
   "cell_type": "code",
   "execution_count": 8,
   "id": "0db7f044-2c7d-4dc4-877c-b35138a1c3b7",
   "metadata": {},
   "outputs": [
    {
     "data": {
      "image/png": "[encoded data removed]",
      "text/plain": [
       "<Figure size 640x480 with 1 Axes>"
      ]
     },
     "metadata": {},
     "output_type": "display_data"
    }
   ],
   "source": [
    "plt.boxplot(data['Customer Lifetime Value'])\n",
    "plt.xticks(rotation=90)\n",
    "plt.title('Customer Life time value Distribution',fontdict={'fontsize':20,'fontweight':5,'color':'Green'})\n",
    "plt.show()"
   ]
  },
  {
   "cell_type": "code",
   "execution_count": 9,
   "id": "acf17ddc-b671-4943-aa8a-7dd73deb9622",
   "metadata": {},
   "outputs": [
    {
     "data": {
      "image/png": "[encoded data removed]",
      "text/plain": [
       "<Figure size 640x480 with 1 Axes>"
      ]
     },
     "metadata": {},
     "output_type": "display_data"
    }
   ],
   "source": [
    "plt.boxplot(data['Total Claim Amount'])\n",
    "plt.title('Total Claim Amount Distribution',fontdict={'fontsize':20,'fontweight':5,'color':'Green'})\n",
    "plt.show()"
   ]
  },
  {
   "cell_type": "code",
   "execution_count": 10,
   "id": "d998aa06-4a9f-47b6-a005-7f39c3b0455f",
   "metadata": {},
   "outputs": [
    {
     "data": {
      "image/png": "[encoded data removed]",
      "text/plain": [
       "<Figure size 640x480 with 1 Axes>"
      ]
     },
     "metadata": {},
     "output_type": "display_data"
    }
   ],
   "source": [
    "plt.boxplot(data['Number of Policies'])\n",
    "plt.title('Number of Policies Distribution',fontdict={'fontsize':20,'fontweight':5,'color':'Green'})\n",
    "plt.show()"
   ]
  },
  {
   "cell_type": "code",
   "execution_count": 11,
   "id": "f12bfbd0-3c9a-42ac-a433-78a376d58bd4",
   "metadata": {},
   "outputs": [
    {
     "data": {
      "text/html": [
       "<div>\n",
       "<style scoped>\n",
       "    .dataframe tbody tr th:only-of-type {\n",
       "        vertical-align: middle;\n",
       "    }\n",
       "\n",
       "    .dataframe tbody tr th {\n",
       "        vertical-align: top;\n",
       "    }\n",
       "\n",
       "    .dataframe thead th {\n",
       "        text-align: right;\n",
       "    }\n",
       "</style>\n",
       "<table border=\"1\" class=\"dataframe\">\n",
       "  <thead>\n",
       "    <tr style=\"text-align: right;\">\n",
       "      <th></th>\n",
       "      <th>Customer</th>\n",
       "      <th>State</th>\n",
       "      <th>Customer Lifetime Value</th>\n",
       "      <th>Response</th>\n",
       "      <th>Coverage</th>\n",
       "      <th>Education</th>\n",
       "      <th>Effective To Date</th>\n",
       "      <th>EmploymentStatus</th>\n",
       "      <th>Gender</th>\n",
       "      <th>Income</th>\n",
       "      <th>...</th>\n",
       "      <th>Months Since Policy Inception</th>\n",
       "      <th>Number of Open Complaints</th>\n",
       "      <th>Number of Policies</th>\n",
       "      <th>Policy Type</th>\n",
       "      <th>Policy</th>\n",
       "      <th>Renew Offer Type</th>\n",
       "      <th>Sales Channel</th>\n",
       "      <th>Total Claim Amount</th>\n",
       "      <th>Vehicle Class</th>\n",
       "      <th>Vehicle Size</th>\n",
       "    </tr>\n",
       "  </thead>\n",
       "  <tbody>\n",
       "    <tr>\n",
       "      <th>5716</th>\n",
       "      <td>FQ61281</td>\n",
       "      <td>Oregon</td>\n",
       "      <td>83325.38119</td>\n",
       "      <td>No</td>\n",
       "      <td>Extended</td>\n",
       "      <td>High School or Below</td>\n",
       "      <td>1/31/11</td>\n",
       "      <td>Employed</td>\n",
       "      <td>M</td>\n",
       "      <td>58958</td>\n",
       "      <td>...</td>\n",
       "      <td>74</td>\n",
       "      <td>0</td>\n",
       "      <td>2</td>\n",
       "      <td>Personal Auto</td>\n",
       "      <td>Personal L3</td>\n",
       "      <td>Offer1</td>\n",
       "      <td>Call Center</td>\n",
       "      <td>1108.8</td>\n",
       "      <td>Luxury Car</td>\n",
       "      <td>Small</td>\n",
       "    </tr>\n",
       "  </tbody>\n",
       "</table>\n",
       "<p>1 rows × 24 columns</p>\n",
       "</div>"
      ],
      "text/plain": [
       "     Customer   State  Customer Lifetime Value Response  Coverage  \\\n",
       "5716  FQ61281  Oregon              83325.38119       No  Extended   \n",
       "\n",
       "                 Education Effective To Date EmploymentStatus Gender  Income  \\\n",
       "5716  High School or Below           1/31/11         Employed      M   58958   \n",
       "\n",
       "      ... Months Since Policy Inception Number of Open Complaints  \\\n",
       "5716  ...                            74                         0   \n",
       "\n",
       "      Number of Policies    Policy Type       Policy  Renew Offer Type  \\\n",
       "5716                   2  Personal Auto  Personal L3            Offer1   \n",
       "\n",
       "      Sales Channel Total Claim Amount Vehicle Class Vehicle Size  \n",
       "5716    Call Center             1108.8    Luxury Car        Small  \n",
       "\n",
       "[1 rows x 24 columns]"
      ]
     },
     "execution_count": 11,
     "metadata": {},
     "output_type": "execute_result"
    }
   ],
   "source": [
    "data[data['Customer Lifetime Value'] == 83325.381190]"
   ]
  },
  {
   "cell_type": "code",
   "execution_count": 12,
   "id": "d1a24a16-2155-4863-a0b0-8987342a96ec",
   "metadata": {},
   "outputs": [
    {
     "data": {
      "text/plain": [
       "416"
      ]
     },
     "execution_count": 12,
     "metadata": {},
     "output_type": "execute_result"
    }
   ],
   "source": [
    "len(data[data['Number of Policies'] == 9])"
   ]
  },
  {
   "cell_type": "code",
   "execution_count": 13,
   "id": "079ac832-1f20-4c5e-92c2-8055153026a4",
   "metadata": {},
   "outputs": [
    {
     "data": {
      "text/html": [
       "<div>\n",
       "<style scoped>\n",
       "    .dataframe tbody tr th:only-of-type {\n",
       "        vertical-align: middle;\n",
       "    }\n",
       "\n",
       "    .dataframe tbody tr th {\n",
       "        vertical-align: top;\n",
       "    }\n",
       "\n",
       "    .dataframe thead th {\n",
       "        text-align: right;\n",
       "    }\n",
       "</style>\n",
       "<table border=\"1\" class=\"dataframe\">\n",
       "  <thead>\n",
       "    <tr style=\"text-align: right;\">\n",
       "      <th></th>\n",
       "      <th>Customer</th>\n",
       "      <th>State</th>\n",
       "      <th>Customer Lifetime Value</th>\n",
       "      <th>Response</th>\n",
       "      <th>Coverage</th>\n",
       "      <th>Education</th>\n",
       "      <th>Effective To Date</th>\n",
       "      <th>EmploymentStatus</th>\n",
       "      <th>Gender</th>\n",
       "      <th>Income</th>\n",
       "      <th>...</th>\n",
       "      <th>Months Since Policy Inception</th>\n",
       "      <th>Number of Open Complaints</th>\n",
       "      <th>Number of Policies</th>\n",
       "      <th>Policy Type</th>\n",
       "      <th>Policy</th>\n",
       "      <th>Renew Offer Type</th>\n",
       "      <th>Sales Channel</th>\n",
       "      <th>Total Claim Amount</th>\n",
       "      <th>Vehicle Class</th>\n",
       "      <th>Vehicle Size</th>\n",
       "    </tr>\n",
       "  </thead>\n",
       "  <tbody>\n",
       "    <tr>\n",
       "      <th>888</th>\n",
       "      <td>BZ65376</td>\n",
       "      <td>Arizona</td>\n",
       "      <td>8581.278701</td>\n",
       "      <td>No</td>\n",
       "      <td>Extended</td>\n",
       "      <td>Bachelor</td>\n",
       "      <td>1/18/11</td>\n",
       "      <td>Medical Leave</td>\n",
       "      <td>M</td>\n",
       "      <td>27689</td>\n",
       "      <td>...</td>\n",
       "      <td>72</td>\n",
       "      <td>2</td>\n",
       "      <td>1</td>\n",
       "      <td>Personal Auto</td>\n",
       "      <td>Personal L2</td>\n",
       "      <td>Offer2</td>\n",
       "      <td>Web</td>\n",
       "      <td>2893.239678</td>\n",
       "      <td>Luxury SUV</td>\n",
       "      <td>Medsize</td>\n",
       "    </tr>\n",
       "    <tr>\n",
       "      <th>5074</th>\n",
       "      <td>ZD75163</td>\n",
       "      <td>Nevada</td>\n",
       "      <td>9295.411150</td>\n",
       "      <td>No</td>\n",
       "      <td>Premium</td>\n",
       "      <td>High School or Below</td>\n",
       "      <td>2/14/11</td>\n",
       "      <td>Unemployed</td>\n",
       "      <td>M</td>\n",
       "      <td>0</td>\n",
       "      <td>...</td>\n",
       "      <td>44</td>\n",
       "      <td>0</td>\n",
       "      <td>1</td>\n",
       "      <td>Corporate Auto</td>\n",
       "      <td>Corporate L3</td>\n",
       "      <td>Offer4</td>\n",
       "      <td>Call Center</td>\n",
       "      <td>2759.794354</td>\n",
       "      <td>Luxury Car</td>\n",
       "      <td>Medsize</td>\n",
       "    </tr>\n",
       "  </tbody>\n",
       "</table>\n",
       "<p>2 rows × 24 columns</p>\n",
       "</div>"
      ],
      "text/plain": [
       "     Customer    State  Customer Lifetime Value Response  Coverage  \\\n",
       "888   BZ65376  Arizona              8581.278701       No  Extended   \n",
       "5074  ZD75163   Nevada              9295.411150       No   Premium   \n",
       "\n",
       "                 Education Effective To Date EmploymentStatus Gender  Income  \\\n",
       "888               Bachelor           1/18/11    Medical Leave      M   27689   \n",
       "5074  High School or Below           2/14/11       Unemployed      M       0   \n",
       "\n",
       "      ... Months Since Policy Inception Number of Open Complaints  \\\n",
       "888   ...                            72                         2   \n",
       "5074  ...                            44                         0   \n",
       "\n",
       "      Number of Policies     Policy Type        Policy  Renew Offer Type  \\\n",
       "888                    1   Personal Auto   Personal L2            Offer2   \n",
       "5074                   1  Corporate Auto  Corporate L3            Offer4   \n",
       "\n",
       "      Sales Channel Total Claim Amount Vehicle Class Vehicle Size  \n",
       "888             Web        2893.239678    Luxury SUV      Medsize  \n",
       "5074    Call Center        2759.794354    Luxury Car      Medsize  \n",
       "\n",
       "[2 rows x 24 columns]"
      ]
     },
     "execution_count": 13,
     "metadata": {},
     "output_type": "execute_result"
    }
   ],
   "source": [
    "data[data['Total Claim Amount'] > 2600]"
   ]
  },
  {
   "cell_type": "markdown",
   "id": "c5582b6c-eb24-407a-8d79-c8e83117a17e",
   "metadata": {},
   "source": [
    "#Observation  \n",
    "#1. Potential High-Value Customer: A customer exhibits a high Customer Lifetime Value (CLTV: 83325) despite low claim amounts. High potential due to possibly consistent premium payments of dollars 231 or long tenure (74 months).  \n",
    "2. Normal Claim Amounts: Two entries with total claim amounts (~$3,000) fall within expected ranges.  \n",
    "3. Standard Number of Policies: Nine policies appear to be within range of  standard holding.( 416 customers )  "
   ]
  },
  {
   "cell_type": "code",
   "execution_count": 14,
   "id": "576a3c13-5011-4110-af89-8052dbb038c9",
   "metadata": {},
   "outputs": [],
   "source": [
    "#Removing outliers\n",
    "insurance_data=data[(data['Customer Lifetime Value'] != 83325.381190) | ( data['Total Claim Amount'] > 2600)]"
   ]
  },
  {
   "cell_type": "code",
   "execution_count": 15,
   "id": "18a69def-1721-409b-ad2b-9897415ca41e",
   "metadata": {},
   "outputs": [
    {
     "data": {
      "text/html": [
       "<div>\n",
       "<style scoped>\n",
       "    .dataframe tbody tr th:only-of-type {\n",
       "        vertical-align: middle;\n",
       "    }\n",
       "\n",
       "    .dataframe tbody tr th {\n",
       "        vertical-align: top;\n",
       "    }\n",
       "\n",
       "    .dataframe thead th {\n",
       "        text-align: right;\n",
       "    }\n",
       "</style>\n",
       "<table border=\"1\" class=\"dataframe\">\n",
       "  <thead>\n",
       "    <tr style=\"text-align: right;\">\n",
       "      <th></th>\n",
       "      <th>Customer Lifetime Value</th>\n",
       "      <th>Income</th>\n",
       "      <th>Monthly Premium Auto</th>\n",
       "      <th>Months Since Last Claim</th>\n",
       "      <th>Months Since Policy Inception</th>\n",
       "      <th>Number of Open Complaints</th>\n",
       "      <th>Number of Policies</th>\n",
       "      <th>Total Claim Amount</th>\n",
       "    </tr>\n",
       "  </thead>\n",
       "  <tbody>\n",
       "    <tr>\n",
       "      <th>count</th>\n",
       "      <td>9133.000000</td>\n",
       "      <td>9133.000000</td>\n",
       "      <td>9133.000000</td>\n",
       "      <td>9133.000000</td>\n",
       "      <td>9133.000000</td>\n",
       "      <td>9133.000000</td>\n",
       "      <td>9133.000000</td>\n",
       "      <td>9133.000000</td>\n",
       "    </tr>\n",
       "    <tr>\n",
       "      <th>mean</th>\n",
       "      <td>7996.693410</td>\n",
       "      <td>37655.047739</td>\n",
       "      <td>93.204205</td>\n",
       "      <td>15.095259</td>\n",
       "      <td>48.061754</td>\n",
       "      <td>0.384430</td>\n",
       "      <td>2.966276</td>\n",
       "      <td>434.014918</td>\n",
       "    </tr>\n",
       "    <tr>\n",
       "      <th>std</th>\n",
       "      <td>6825.983962</td>\n",
       "      <td>30380.750293</td>\n",
       "      <td>34.379628</td>\n",
       "      <td>10.072433</td>\n",
       "      <td>27.906199</td>\n",
       "      <td>0.910424</td>\n",
       "      <td>2.390291</td>\n",
       "      <td>290.430178</td>\n",
       "    </tr>\n",
       "    <tr>\n",
       "      <th>min</th>\n",
       "      <td>1898.007675</td>\n",
       "      <td>0.000000</td>\n",
       "      <td>61.000000</td>\n",
       "      <td>0.000000</td>\n",
       "      <td>0.000000</td>\n",
       "      <td>0.000000</td>\n",
       "      <td>1.000000</td>\n",
       "      <td>0.099007</td>\n",
       "    </tr>\n",
       "    <tr>\n",
       "      <th>25%</th>\n",
       "      <td>3993.882994</td>\n",
       "      <td>0.000000</td>\n",
       "      <td>68.000000</td>\n",
       "      <td>6.000000</td>\n",
       "      <td>24.000000</td>\n",
       "      <td>0.000000</td>\n",
       "      <td>1.000000</td>\n",
       "      <td>272.217171</td>\n",
       "    </tr>\n",
       "    <tr>\n",
       "      <th>50%</th>\n",
       "      <td>5780.182197</td>\n",
       "      <td>33882.000000</td>\n",
       "      <td>83.000000</td>\n",
       "      <td>14.000000</td>\n",
       "      <td>48.000000</td>\n",
       "      <td>0.000000</td>\n",
       "      <td>2.000000</td>\n",
       "      <td>383.890867</td>\n",
       "    </tr>\n",
       "    <tr>\n",
       "      <th>75%</th>\n",
       "      <td>8960.280213</td>\n",
       "      <td>62326.000000</td>\n",
       "      <td>109.000000</td>\n",
       "      <td>23.000000</td>\n",
       "      <td>71.000000</td>\n",
       "      <td>0.000000</td>\n",
       "      <td>4.000000</td>\n",
       "      <td>547.200000</td>\n",
       "    </tr>\n",
       "    <tr>\n",
       "      <th>max</th>\n",
       "      <td>74228.516040</td>\n",
       "      <td>99981.000000</td>\n",
       "      <td>298.000000</td>\n",
       "      <td>35.000000</td>\n",
       "      <td>99.000000</td>\n",
       "      <td>5.000000</td>\n",
       "      <td>9.000000</td>\n",
       "      <td>2893.239678</td>\n",
       "    </tr>\n",
       "  </tbody>\n",
       "</table>\n",
       "</div>"
      ],
      "text/plain": [
       "       Customer Lifetime Value        Income  Monthly Premium Auto  \\\n",
       "count              9133.000000   9133.000000           9133.000000   \n",
       "mean               7996.693410  37655.047739             93.204205   \n",
       "std                6825.983962  30380.750293             34.379628   \n",
       "min                1898.007675      0.000000             61.000000   \n",
       "25%                3993.882994      0.000000             68.000000   \n",
       "50%                5780.182197  33882.000000             83.000000   \n",
       "75%                8960.280213  62326.000000            109.000000   \n",
       "max               74228.516040  99981.000000            298.000000   \n",
       "\n",
       "       Months Since Last Claim  Months Since Policy Inception  \\\n",
       "count              9133.000000                    9133.000000   \n",
       "mean                 15.095259                      48.061754   \n",
       "std                  10.072433                      27.906199   \n",
       "min                   0.000000                       0.000000   \n",
       "25%                   6.000000                      24.000000   \n",
       "50%                  14.000000                      48.000000   \n",
       "75%                  23.000000                      71.000000   \n",
       "max                  35.000000                      99.000000   \n",
       "\n",
       "       Number of Open Complaints  Number of Policies  Total Claim Amount  \n",
       "count                9133.000000         9133.000000         9133.000000  \n",
       "mean                    0.384430            2.966276          434.014918  \n",
       "std                     0.910424            2.390291          290.430178  \n",
       "min                     0.000000            1.000000            0.099007  \n",
       "25%                     0.000000            1.000000          272.217171  \n",
       "50%                     0.000000            2.000000          383.890867  \n",
       "75%                     0.000000            4.000000          547.200000  \n",
       "max                     5.000000            9.000000         2893.239678  "
      ]
     },
     "execution_count": 15,
     "metadata": {},
     "output_type": "execute_result"
    }
   ],
   "source": [
    "insurance_data.describe()"
   ]
  },
  {
   "cell_type": "markdown",
   "id": "98bdadc1-3412-4b1d-9568-42178a3a017c",
   "metadata": {},
   "source": [
    "# Observation - Customer Acquisition and  Customer Behavior\n",
    "##Average Customer Life time value - 7996.69 dollars  \n",
    "##Average Monthly Premium - 93.2 dollars"
   ]
  },
  {
   "cell_type": "code",
   "execution_count": 16,
   "id": "6203ae53-a8ae-4333-9a37-1a2ac9734f28",
   "metadata": {},
   "outputs": [
    {
     "data": {
      "image/png": "[encoded data removed]",
      "text/plain": [
       "<Figure size 640x480 with 1 Axes>"
      ]
     },
     "metadata": {},
     "output_type": "display_data"
    },
    {
     "data": {
      "text/plain": [
       "Sales Channel\n",
       "Branch         8119.711861\n",
       "Call Center    8057.441028\n",
       "Agent          7957.709353\n",
       "Web            7779.788057\n",
       "Name: Customer Lifetime Value, dtype: float64"
      ]
     },
     "execution_count": 16,
     "metadata": {},
     "output_type": "execute_result"
    }
   ],
   "source": [
    "groupby_data=insurance_data.groupby('Sales Channel')['Customer Lifetime Value'].mean().sort_values(ascending=False)\n",
    "plt.bar(groupby_data.index,groupby_data.values)\n",
    "plt.tight_layout()\n",
    "plt.xticks(rotation=90)\n",
    "plt.show()\n",
    "groupby_data"
   ]
  },
  {
   "cell_type": "markdown",
   "id": "27e866ed-61d0-43ac-aaa2-5163a0b97a2d",
   "metadata": {},
   "source": [
    "#  Observation - Customer Acquisition  \n",
    "##Average Customer Life time value is highest for Branch channel .Though TOP 3 channels have not much difference in CLTV"
   ]
  },
  {
   "cell_type": "code",
   "execution_count": 17,
   "id": "16b1ac71-df67-4e76-ab43-513efac9d5ab",
   "metadata": {},
   "outputs": [
    {
     "data": {
      "text/plain": [
       "4"
      ]
     },
     "execution_count": 17,
     "metadata": {},
     "output_type": "execute_result"
    }
   ],
   "source": [
    "insurance_data['Sales Channel'].nunique()"
   ]
  },
  {
   "cell_type": "code",
   "execution_count": 18,
   "id": "5977224c-e67b-4b5e-8572-af26f564d350",
   "metadata": {},
   "outputs": [
    {
     "data": {
      "image/png": "[encoded data removed]",
      "text/plain": [
       "<Figure size 640x480 with 1 Axes>"
      ]
     },
     "metadata": {},
     "output_type": "display_data"
    }
   ],
   "source": [
    "groupby_data_chnl=insurance_data.groupby('Sales Channel').size()\n",
    "x_vals=[]\n",
    "y_vals=[]\n",
    "for i in range(4):\n",
    "    x_vals.append(groupby_data_chnl.index[i])\n",
    "    y_vals.append(groupby_data_chnl.values[i])\n",
    "plt.pie(y_vals,labels=x_vals)\n",
    "plt.title('Channel wise Customer Distribution',fontdict={'fontsize':20,'fontweight':5,'color':'Green'})\n",
    "plt.show()"
   ]
  },
  {
   "cell_type": "markdown",
   "id": "39e0cc0d-27b1-44e6-b50d-b597b2643642",
   "metadata": {},
   "source": [
    "# Observation - Customer Acquisition\n",
    "##Most common Sales Channel is through Agent"
   ]
  },
  {
   "cell_type": "code",
   "execution_count": 19,
   "id": "a612a3e5-b510-414c-8dc5-a21d7cc52cec",
   "metadata": {},
   "outputs": [
    {
     "data": {
      "text/plain": [
       "5"
      ]
     },
     "execution_count": 19,
     "metadata": {},
     "output_type": "execute_result"
    }
   ],
   "source": [
    "insurance_data.State.nunique()"
   ]
  },
  {
   "cell_type": "code",
   "execution_count": 20,
   "id": "ca3dbfff-fc69-4d7e-b5ba-e233e370a9be",
   "metadata": {},
   "outputs": [
    {
     "data": {
      "image/png": "[encoded data removed]",
      "text/plain": [
       "<Figure size 640x480 with 1 Axes>"
      ]
     },
     "metadata": {},
     "output_type": "display_data"
    }
   ],
   "source": [
    "groupby_data_state=insurance_data.groupby('State').size()\n",
    "x_vals=[]\n",
    "y_vals=[]\n",
    "for i in range(5):\n",
    "    x_vals.append(groupby_data_state.index[i])\n",
    "    y_vals.append(groupby_data_state.values[i])\n",
    "plt.pie(y_vals,labels=x_vals)\n",
    "plt.title('State wise Customer Distribution',fontdict={'fontsize':20,'fontweight':5,'color':'Green'})\n",
    "plt.show()"
   ]
  },
  {
   "cell_type": "markdown",
   "id": "004fd855-2c0a-4488-ba7d-6949f27e812d",
   "metadata": {},
   "source": [
    "# Observation - Demographics\n",
    "##Most of policies have been sold in California and Oregon"
   ]
  },
  {
   "cell_type": "code",
   "execution_count": 21,
   "id": "febd7674-cfe7-4306-98b6-982cd9f0a6b1",
   "metadata": {},
   "outputs": [
    {
     "data": {
      "text/plain": [
       "Gender  Marital Status\n",
       "F       Divorced          8309.086161\n",
       "        Married           8094.648047\n",
       "        Single            7972.482758\n",
       "M       Divorced          8168.354981\n",
       "        Married           8031.777083\n",
       "        Single            7482.419503\n",
       "Name: Customer Lifetime Value, dtype: float64"
      ]
     },
     "execution_count": 21,
     "metadata": {},
     "output_type": "execute_result"
    }
   ],
   "source": [
    "insurance_data.groupby(['Gender','Marital Status'])['Customer Lifetime Value'].mean()"
   ]
  },
  {
   "cell_type": "code",
   "execution_count": 22,
   "id": "716583df-4226-4cd5-a078-e32f163e069c",
   "metadata": {},
   "outputs": [
    {
     "data": {
      "image/png": "[encoded data removed]",
      "text/plain": [
       "<Figure size 640x480 with 1 Axes>"
      ]
     },
     "metadata": {},
     "output_type": "display_data"
    }
   ],
   "source": [
    "mean_cltv_by_demographics = insurance_data.groupby(['Gender', 'Marital Status'])['Customer Lifetime Value'].mean().reset_index()\n",
    "#for plot reset_index() as new column had become index\n",
    "sns.barplot(hue='Gender', y='Customer Lifetime Value', x='Marital Status', data=mean_cltv_by_demographics)\n",
    "plt.title('Mean Customer Lifetime Value by Gender and Marital Status',fontdict={'fontsize':20,'fontweight':5,'color':'Green'})\n",
    "plt.xlabel('Martial Stus',fontdict={'fontsize':12,'fontweight':5,'color':'Brown'})\n",
    "plt.ylabel('Customer  Life time value',fontdict={'fontsize':12,'fontweight':5,'color':'Brown'})\n",
    "plt.show()\n"
   ]
  },
  {
   "cell_type": "markdown",
   "id": "c004b410-dd49-422f-83e1-c2ec673bdaab",
   "metadata": {},
   "source": [
    "#Observation  \n",
    "#Divorced females have highest customer life time value and Single Males have lowest life time value  \n",
    "#Married individuals(male and female) have intermediate values."
   ]
  },
  {
   "cell_type": "code",
   "execution_count": 23,
   "id": "1ae99724-f9a0-4b39-9376-f7df3df4fc9a",
   "metadata": {},
   "outputs": [
    {
     "data": {
      "image/png": "[encoded data removed]",
      "text/plain": [
       "<Figure size 640x480 with 1 Axes>"
      ]
     },
     "metadata": {},
     "output_type": "display_data"
    }
   ],
   "source": [
    "groupdata_policy=insurance_data.groupby(['Policy Type']).size()\n",
    "x_vals=[]\n",
    "y_vals=[]\n",
    "for i in range(3):\n",
    "    x_vals.append(groupdata_policy.index[i])\n",
    "    y_vals.append(groupdata_policy.values[i])\n",
    "plt.pie(y_vals,labels=x_vals)\n",
    "plt.title('Policy Type Customer Distribution',fontdict={'fontsize':20,'fontweight':5,'color':'Green'})\n",
    "plt.show()"
   ]
  },
  {
   "cell_type": "code",
   "execution_count": 24,
   "id": "8c09bfdf-12b9-43b3-87db-22a08d51dbf1",
   "metadata": {},
   "outputs": [
    {
     "data": {
      "text/plain": [
       "Policy Type\n",
       "Corporate Auto    1968\n",
       "Personal Auto     6787\n",
       "Special Auto       378\n",
       "dtype: int64"
      ]
     },
     "execution_count": 24,
     "metadata": {},
     "output_type": "execute_result"
    }
   ],
   "source": [
    "insurance_data.groupby(['Policy Type']).size()"
   ]
  },
  {
   "cell_type": "markdown",
   "id": "dd7d5da7-2bee-4c5c-ab10-da5debc21e54",
   "metadata": {},
   "source": [
    "# observation - Customer Behavior\n",
    "##Personal auto is is the most common policy type"
   ]
  },
  {
   "cell_type": "code",
   "execution_count": 25,
   "id": "c1657bfb-98df-40ae-9786-6b5eeef06087",
   "metadata": {},
   "outputs": [
    {
     "data": {
      "text/plain": [
       "Policy Type\n",
       "Corporate Auto    1968\n",
       "Personal Auto     6787\n",
       "Special Auto       378\n",
       "Name: Total Claim Amount, dtype: int64"
      ]
     },
     "execution_count": 25,
     "metadata": {},
     "output_type": "execute_result"
    }
   ],
   "source": [
    "insurance_data.groupby('Policy Type')['Total Claim Amount'].size()"
   ]
  },
  {
   "cell_type": "markdown",
   "id": "d0c8a1c3-ff57-40bf-96b4-f9dabc3ce61f",
   "metadata": {},
   "source": [
    "# Observation - Customer Behavior\n",
    "##Personal auto has highest number of claims. There is a difference in the number of claims by policy type"
   ]
  },
  {
   "cell_type": "code",
   "execution_count": 26,
   "id": "a62f9452-1b48-49c8-9c32-3a0a10226380",
   "metadata": {},
   "outputs": [
    {
     "data": {
      "text/plain": [
       "-0.01698737381797168"
      ]
     },
     "execution_count": 26,
     "metadata": {},
     "output_type": "execute_result"
    }
   ],
   "source": [
    "insurance_data.Income.corr(insurance_data['Monthly Premium Auto'])"
   ]
  },
  {
   "cell_type": "markdown",
   "id": "03f100ff-8a35-46b4-a564-dcb9f580748f",
   "metadata": {},
   "source": [
    "# Observation - Customer Behavior\n",
    "##There is nocorrelation between income and monthly premium paid or little negative corelation"
   ]
  },
  {
   "cell_type": "code",
   "execution_count": 27,
   "id": "dae87118-0057-43c6-9bcd-ec9814bb8117",
   "metadata": {},
   "outputs": [
    {
     "data": {
      "text/plain": [
       "20.60659148144093"
      ]
     },
     "execution_count": 27,
     "metadata": {},
     "output_type": "execute_result"
    }
   ],
   "source": [
    "100*(len(insurance_data[insurance_data['Number of Open Complaints'] > 0])/ len(insurance_data['Customer']))"
   ]
  },
  {
   "cell_type": "code",
   "execution_count": 28,
   "id": "f017869a-2a13-45cb-b0e9-db2473797095",
   "metadata": {},
   "outputs": [
    {
     "data": {
      "text/plain": [
       "1882"
      ]
     },
     "execution_count": 28,
     "metadata": {},
     "output_type": "execute_result"
    }
   ],
   "source": [
    "len(insurance_data[insurance_data['Number of Open Complaints'] > 0])"
   ]
  },
  {
   "cell_type": "markdown",
   "id": "496d0038-ce97-4ace-a520-e17ede2c021e",
   "metadata": {},
   "source": [
    "## Observation - Customer Behavior\n",
    "#Approximately 21% of customers(1882) have open complaints."
   ]
  },
  {
   "cell_type": "code",
   "execution_count": 29,
   "id": "98a09c8d-52fa-40e7-a849-51a1b8931183",
   "metadata": {},
   "outputs": [
    {
     "data": {
      "text/plain": [
       "14.321690572648638"
      ]
     },
     "execution_count": 29,
     "metadata": {},
     "output_type": "execute_result"
    }
   ],
   "source": [
    "100*(len(insurance_data[insurance_data.Response == 'Yes'])/ len(insurance_data['Customer']))"
   ]
  },
  {
   "cell_type": "markdown",
   "id": "f7b7c5de-5341-4651-9efe-fd057e1c331a",
   "metadata": {},
   "source": [
    "## Observation - Customer Retention\n",
    "#Approximately 14% of customers have agreed to renew."
   ]
  },
  {
   "cell_type": "code",
   "execution_count": 37,
   "id": "b5fee035-ece1-4cc3-81dd-592e9a693213",
   "metadata": {},
   "outputs": [
    {
     "name": "stderr",
     "output_type": "stream",
     "text": [
      "/tmp/ipykernel_84751/4183367488.py:2: SettingWithCopyWarning: \n",
      "A value is trying to be set on a copy of a slice from a DataFrame.\n",
      "Try using .loc[row_indexer,col_indexer] = value instead\n",
      "\n",
      "See the caveats in the documentation: https://pandas.pydata.org/pandas-docs/stable/user_guide/indexing.html#returning-a-view-versus-a-copy\n",
      "  insurance_data['map']=insurance_data.Response.replace(map)\n"
     ]
    }
   ],
   "source": [
    "map = {'Yes': 1, 'No': 0}\n",
    "insurance_data['map']=insurance_data.Response.replace(map)"
   ]
  },
  {
   "cell_type": "code",
   "execution_count": 38,
   "id": "b09a7be8-df31-4344-8da3-d3ed48f5334d",
   "metadata": {},
   "outputs": [
    {
     "data": {
      "text/plain": [
       "map\n",
       "0    8020.399895\n",
       "1    7854.871361\n",
       "Name: Customer Lifetime Value, dtype: float64"
      ]
     },
     "execution_count": 38,
     "metadata": {},
     "output_type": "execute_result"
    }
   ],
   "source": [
    "insurance_data.groupby('map')['Customer Lifetime Value'].mean()"
   ]
  },
  {
   "cell_type": "markdown",
   "id": "2035867d-b5fe-4ba1-b9eb-332e90b81173",
   "metadata": {},
   "source": [
    "# Observation- Customer Retention\n",
    "#There is no corelation between renewal choice and Customer life time value.   \n",
    "#In-fact Customer who didn't want to renew had a higher customer life value.  "
   ]
  },
  {
   "cell_type": "code",
   "execution_count": 78,
   "id": "90bbcab7-824b-4c81-b8f3-0b02bba73e8f",
   "metadata": {},
   "outputs": [
    {
     "data": {
      "text/html": [
       "<div>\n",
       "<style scoped>\n",
       "    .dataframe tbody tr th:only-of-type {\n",
       "        vertical-align: middle;\n",
       "    }\n",
       "\n",
       "    .dataframe tbody tr th {\n",
       "        vertical-align: top;\n",
       "    }\n",
       "\n",
       "    .dataframe thead th {\n",
       "        text-align: right;\n",
       "    }\n",
       "</style>\n",
       "<table border=\"1\" class=\"dataframe\">\n",
       "  <thead>\n",
       "    <tr style=\"text-align: right;\">\n",
       "      <th></th>\n",
       "      <th>Customer</th>\n",
       "      <th>State</th>\n",
       "      <th>Customer Lifetime Value</th>\n",
       "      <th>Response</th>\n",
       "      <th>Coverage</th>\n",
       "      <th>Education</th>\n",
       "      <th>Effective To Date</th>\n",
       "      <th>EmploymentStatus</th>\n",
       "      <th>Gender</th>\n",
       "      <th>Income</th>\n",
       "      <th>...</th>\n",
       "      <th>Number of Open Complaints</th>\n",
       "      <th>Number of Policies</th>\n",
       "      <th>Policy Type</th>\n",
       "      <th>Policy</th>\n",
       "      <th>Renew Offer Type</th>\n",
       "      <th>Sales Channel</th>\n",
       "      <th>Total Claim Amount</th>\n",
       "      <th>Vehicle Class</th>\n",
       "      <th>Vehicle Size</th>\n",
       "      <th>map</th>\n",
       "    </tr>\n",
       "  </thead>\n",
       "  <tbody>\n",
       "    <tr>\n",
       "      <th>0</th>\n",
       "      <td>BU79786</td>\n",
       "      <td>Washington</td>\n",
       "      <td>2763.519279</td>\n",
       "      <td>No</td>\n",
       "      <td>Basic</td>\n",
       "      <td>Bachelor</td>\n",
       "      <td>2/24/11</td>\n",
       "      <td>Employed</td>\n",
       "      <td>F</td>\n",
       "      <td>56274</td>\n",
       "      <td>...</td>\n",
       "      <td>0</td>\n",
       "      <td>1</td>\n",
       "      <td>Corporate Auto</td>\n",
       "      <td>Corporate L3</td>\n",
       "      <td>Offer1</td>\n",
       "      <td>Agent</td>\n",
       "      <td>384.811147</td>\n",
       "      <td>Two-Door Car</td>\n",
       "      <td>Medsize</td>\n",
       "      <td>0</td>\n",
       "    </tr>\n",
       "    <tr>\n",
       "      <th>1</th>\n",
       "      <td>QZ44356</td>\n",
       "      <td>Arizona</td>\n",
       "      <td>6979.535903</td>\n",
       "      <td>No</td>\n",
       "      <td>Extended</td>\n",
       "      <td>Bachelor</td>\n",
       "      <td>1/31/11</td>\n",
       "      <td>Unemployed</td>\n",
       "      <td>F</td>\n",
       "      <td>0</td>\n",
       "      <td>...</td>\n",
       "      <td>0</td>\n",
       "      <td>8</td>\n",
       "      <td>Personal Auto</td>\n",
       "      <td>Personal L3</td>\n",
       "      <td>Offer3</td>\n",
       "      <td>Agent</td>\n",
       "      <td>1131.464935</td>\n",
       "      <td>Four-Door Car</td>\n",
       "      <td>Medsize</td>\n",
       "      <td>0</td>\n",
       "    </tr>\n",
       "    <tr>\n",
       "      <th>2</th>\n",
       "      <td>AI49188</td>\n",
       "      <td>Nevada</td>\n",
       "      <td>12887.431650</td>\n",
       "      <td>No</td>\n",
       "      <td>Premium</td>\n",
       "      <td>Bachelor</td>\n",
       "      <td>2/19/11</td>\n",
       "      <td>Employed</td>\n",
       "      <td>F</td>\n",
       "      <td>48767</td>\n",
       "      <td>...</td>\n",
       "      <td>0</td>\n",
       "      <td>2</td>\n",
       "      <td>Personal Auto</td>\n",
       "      <td>Personal L3</td>\n",
       "      <td>Offer1</td>\n",
       "      <td>Agent</td>\n",
       "      <td>566.472247</td>\n",
       "      <td>Two-Door Car</td>\n",
       "      <td>Medsize</td>\n",
       "      <td>0</td>\n",
       "    </tr>\n",
       "    <tr>\n",
       "      <th>3</th>\n",
       "      <td>WW63253</td>\n",
       "      <td>California</td>\n",
       "      <td>7645.861827</td>\n",
       "      <td>No</td>\n",
       "      <td>Basic</td>\n",
       "      <td>Bachelor</td>\n",
       "      <td>1/20/11</td>\n",
       "      <td>Unemployed</td>\n",
       "      <td>M</td>\n",
       "      <td>0</td>\n",
       "      <td>...</td>\n",
       "      <td>0</td>\n",
       "      <td>7</td>\n",
       "      <td>Corporate Auto</td>\n",
       "      <td>Corporate L2</td>\n",
       "      <td>Offer1</td>\n",
       "      <td>Call Center</td>\n",
       "      <td>529.881344</td>\n",
       "      <td>SUV</td>\n",
       "      <td>Medsize</td>\n",
       "      <td>0</td>\n",
       "    </tr>\n",
       "    <tr>\n",
       "      <th>4</th>\n",
       "      <td>HB64268</td>\n",
       "      <td>Washington</td>\n",
       "      <td>2813.692575</td>\n",
       "      <td>No</td>\n",
       "      <td>Basic</td>\n",
       "      <td>Bachelor</td>\n",
       "      <td>2/3/11</td>\n",
       "      <td>Employed</td>\n",
       "      <td>M</td>\n",
       "      <td>43836</td>\n",
       "      <td>...</td>\n",
       "      <td>0</td>\n",
       "      <td>1</td>\n",
       "      <td>Personal Auto</td>\n",
       "      <td>Personal L1</td>\n",
       "      <td>Offer1</td>\n",
       "      <td>Agent</td>\n",
       "      <td>138.130879</td>\n",
       "      <td>Four-Door Car</td>\n",
       "      <td>Medsize</td>\n",
       "      <td>0</td>\n",
       "    </tr>\n",
       "    <tr>\n",
       "      <th>...</th>\n",
       "      <td>...</td>\n",
       "      <td>...</td>\n",
       "      <td>...</td>\n",
       "      <td>...</td>\n",
       "      <td>...</td>\n",
       "      <td>...</td>\n",
       "      <td>...</td>\n",
       "      <td>...</td>\n",
       "      <td>...</td>\n",
       "      <td>...</td>\n",
       "      <td>...</td>\n",
       "      <td>...</td>\n",
       "      <td>...</td>\n",
       "      <td>...</td>\n",
       "      <td>...</td>\n",
       "      <td>...</td>\n",
       "      <td>...</td>\n",
       "      <td>...</td>\n",
       "      <td>...</td>\n",
       "      <td>...</td>\n",
       "      <td>...</td>\n",
       "    </tr>\n",
       "    <tr>\n",
       "      <th>9128</th>\n",
       "      <td>YM19146</td>\n",
       "      <td>California</td>\n",
       "      <td>4100.398533</td>\n",
       "      <td>No</td>\n",
       "      <td>Premium</td>\n",
       "      <td>College</td>\n",
       "      <td>1/6/11</td>\n",
       "      <td>Employed</td>\n",
       "      <td>F</td>\n",
       "      <td>47761</td>\n",
       "      <td>...</td>\n",
       "      <td>0</td>\n",
       "      <td>1</td>\n",
       "      <td>Personal Auto</td>\n",
       "      <td>Personal L2</td>\n",
       "      <td>Offer1</td>\n",
       "      <td>Branch</td>\n",
       "      <td>541.282007</td>\n",
       "      <td>Four-Door Car</td>\n",
       "      <td>Large</td>\n",
       "      <td>0</td>\n",
       "    </tr>\n",
       "    <tr>\n",
       "      <th>9129</th>\n",
       "      <td>LA72316</td>\n",
       "      <td>California</td>\n",
       "      <td>23405.987980</td>\n",
       "      <td>No</td>\n",
       "      <td>Basic</td>\n",
       "      <td>Bachelor</td>\n",
       "      <td>2/10/11</td>\n",
       "      <td>Employed</td>\n",
       "      <td>M</td>\n",
       "      <td>71941</td>\n",
       "      <td>...</td>\n",
       "      <td>0</td>\n",
       "      <td>2</td>\n",
       "      <td>Personal Auto</td>\n",
       "      <td>Personal L1</td>\n",
       "      <td>Offer2</td>\n",
       "      <td>Web</td>\n",
       "      <td>198.234764</td>\n",
       "      <td>Four-Door Car</td>\n",
       "      <td>Medsize</td>\n",
       "      <td>0</td>\n",
       "    </tr>\n",
       "    <tr>\n",
       "      <th>9131</th>\n",
       "      <td>TD14365</td>\n",
       "      <td>California</td>\n",
       "      <td>8163.890428</td>\n",
       "      <td>No</td>\n",
       "      <td>Extended</td>\n",
       "      <td>Bachelor</td>\n",
       "      <td>2/6/11</td>\n",
       "      <td>Unemployed</td>\n",
       "      <td>M</td>\n",
       "      <td>0</td>\n",
       "      <td>...</td>\n",
       "      <td>3</td>\n",
       "      <td>2</td>\n",
       "      <td>Corporate Auto</td>\n",
       "      <td>Corporate L2</td>\n",
       "      <td>Offer1</td>\n",
       "      <td>Branch</td>\n",
       "      <td>790.784983</td>\n",
       "      <td>Four-Door Car</td>\n",
       "      <td>Medsize</td>\n",
       "      <td>0</td>\n",
       "    </tr>\n",
       "    <tr>\n",
       "      <th>9132</th>\n",
       "      <td>UP19263</td>\n",
       "      <td>California</td>\n",
       "      <td>7524.442436</td>\n",
       "      <td>No</td>\n",
       "      <td>Extended</td>\n",
       "      <td>College</td>\n",
       "      <td>2/3/11</td>\n",
       "      <td>Employed</td>\n",
       "      <td>M</td>\n",
       "      <td>21941</td>\n",
       "      <td>...</td>\n",
       "      <td>0</td>\n",
       "      <td>3</td>\n",
       "      <td>Personal Auto</td>\n",
       "      <td>Personal L2</td>\n",
       "      <td>Offer3</td>\n",
       "      <td>Branch</td>\n",
       "      <td>691.200000</td>\n",
       "      <td>Four-Door Car</td>\n",
       "      <td>Large</td>\n",
       "      <td>0</td>\n",
       "    </tr>\n",
       "    <tr>\n",
       "      <th>9133</th>\n",
       "      <td>Y167826</td>\n",
       "      <td>California</td>\n",
       "      <td>2611.836866</td>\n",
       "      <td>No</td>\n",
       "      <td>Extended</td>\n",
       "      <td>College</td>\n",
       "      <td>2/14/11</td>\n",
       "      <td>Unemployed</td>\n",
       "      <td>M</td>\n",
       "      <td>0</td>\n",
       "      <td>...</td>\n",
       "      <td>0</td>\n",
       "      <td>1</td>\n",
       "      <td>Corporate Auto</td>\n",
       "      <td>Corporate L3</td>\n",
       "      <td>Offer4</td>\n",
       "      <td>Call Center</td>\n",
       "      <td>369.600000</td>\n",
       "      <td>Two-Door Car</td>\n",
       "      <td>Medsize</td>\n",
       "      <td>0</td>\n",
       "    </tr>\n",
       "  </tbody>\n",
       "</table>\n",
       "<p>7825 rows × 25 columns</p>\n",
       "</div>"
      ],
      "text/plain": [
       "     Customer       State  Customer Lifetime Value Response  Coverage  \\\n",
       "0     BU79786  Washington              2763.519279       No     Basic   \n",
       "1     QZ44356     Arizona              6979.535903       No  Extended   \n",
       "2     AI49188      Nevada             12887.431650       No   Premium   \n",
       "3     WW63253  California              7645.861827       No     Basic   \n",
       "4     HB64268  Washington              2813.692575       No     Basic   \n",
       "...       ...         ...                      ...      ...       ...   \n",
       "9128  YM19146  California              4100.398533       No   Premium   \n",
       "9129  LA72316  California             23405.987980       No     Basic   \n",
       "9131  TD14365  California              8163.890428       No  Extended   \n",
       "9132  UP19263  California              7524.442436       No  Extended   \n",
       "9133  Y167826  California              2611.836866       No  Extended   \n",
       "\n",
       "     Education Effective To Date EmploymentStatus Gender  Income  ...  \\\n",
       "0     Bachelor           2/24/11         Employed      F   56274  ...   \n",
       "1     Bachelor           1/31/11       Unemployed      F       0  ...   \n",
       "2     Bachelor           2/19/11         Employed      F   48767  ...   \n",
       "3     Bachelor           1/20/11       Unemployed      M       0  ...   \n",
       "4     Bachelor            2/3/11         Employed      M   43836  ...   \n",
       "...        ...               ...              ...    ...     ...  ...   \n",
       "9128   College            1/6/11         Employed      F   47761  ...   \n",
       "9129  Bachelor           2/10/11         Employed      M   71941  ...   \n",
       "9131  Bachelor            2/6/11       Unemployed      M       0  ...   \n",
       "9132   College            2/3/11         Employed      M   21941  ...   \n",
       "9133   College           2/14/11       Unemployed      M       0  ...   \n",
       "\n",
       "     Number of Open Complaints Number of Policies     Policy Type  \\\n",
       "0                            0                  1  Corporate Auto   \n",
       "1                            0                  8   Personal Auto   \n",
       "2                            0                  2   Personal Auto   \n",
       "3                            0                  7  Corporate Auto   \n",
       "4                            0                  1   Personal Auto   \n",
       "...                        ...                ...             ...   \n",
       "9128                         0                  1   Personal Auto   \n",
       "9129                         0                  2   Personal Auto   \n",
       "9131                         3                  2  Corporate Auto   \n",
       "9132                         0                  3   Personal Auto   \n",
       "9133                         0                  1  Corporate Auto   \n",
       "\n",
       "            Policy  Renew Offer Type  Sales Channel  Total Claim Amount  \\\n",
       "0     Corporate L3            Offer1          Agent          384.811147   \n",
       "1      Personal L3            Offer3          Agent         1131.464935   \n",
       "2      Personal L3            Offer1          Agent          566.472247   \n",
       "3     Corporate L2            Offer1    Call Center          529.881344   \n",
       "4      Personal L1            Offer1          Agent          138.130879   \n",
       "...            ...               ...            ...                 ...   \n",
       "9128   Personal L2            Offer1         Branch          541.282007   \n",
       "9129   Personal L1            Offer2            Web          198.234764   \n",
       "9131  Corporate L2            Offer1         Branch          790.784983   \n",
       "9132   Personal L2            Offer3         Branch          691.200000   \n",
       "9133  Corporate L3            Offer4    Call Center          369.600000   \n",
       "\n",
       "      Vehicle Class Vehicle Size map  \n",
       "0      Two-Door Car      Medsize   0  \n",
       "1     Four-Door Car      Medsize   0  \n",
       "2      Two-Door Car      Medsize   0  \n",
       "3               SUV      Medsize   0  \n",
       "4     Four-Door Car      Medsize   0  \n",
       "...             ...          ...  ..  \n",
       "9128  Four-Door Car        Large   0  \n",
       "9129  Four-Door Car      Medsize   0  \n",
       "9131  Four-Door Car      Medsize   0  \n",
       "9132  Four-Door Car        Large   0  \n",
       "9133   Two-Door Car      Medsize   0  \n",
       "\n",
       "[7825 rows x 25 columns]"
      ]
     },
     "execution_count": 78,
     "metadata": {},
     "output_type": "execute_result"
    }
   ],
   "source": [
    "\n",
    "insurance_norenew=insurance_data[insurance_data.Response == 'No']\n",
    "insurance_norenew"
   ]
  },
  {
   "cell_type": "code",
   "execution_count": 80,
   "id": "c68f2243-5b50-49b3-97cd-001f8afabf1b",
   "metadata": {},
   "outputs": [
    {
     "data": {
      "text/plain": [
       "(9133, 25)"
      ]
     },
     "execution_count": 80,
     "metadata": {},
     "output_type": "execute_result"
    }
   ],
   "source": [
    "insurance_data.shape"
   ]
  },
  {
   "cell_type": "markdown",
   "id": "81587ca8-6285-40ac-834c-af1ad31832f0",
   "metadata": {},
   "source": [
    "# Observation- Customer Retention\n",
    "##Most of customer have not opted for renewal (85%) "
   ]
  },
  {
   "cell_type": "code",
   "execution_count": 81,
   "id": "85b72c10-056d-494c-88ac-9d8a88e97fbb",
   "metadata": {},
   "outputs": [
    {
     "data": {
      "text/html": [
       "<div>\n",
       "<style scoped>\n",
       "    .dataframe tbody tr th:only-of-type {\n",
       "        vertical-align: middle;\n",
       "    }\n",
       "\n",
       "    .dataframe tbody tr th {\n",
       "        vertical-align: top;\n",
       "    }\n",
       "\n",
       "    .dataframe thead th {\n",
       "        text-align: right;\n",
       "    }\n",
       "</style>\n",
       "<table border=\"1\" class=\"dataframe\">\n",
       "  <thead>\n",
       "    <tr style=\"text-align: right;\">\n",
       "      <th></th>\n",
       "      <th>Customer Lifetime Value</th>\n",
       "      <th>Income</th>\n",
       "      <th>Monthly Premium Auto</th>\n",
       "      <th>Months Since Last Claim</th>\n",
       "      <th>Months Since Policy Inception</th>\n",
       "      <th>Number of Open Complaints</th>\n",
       "      <th>Number of Policies</th>\n",
       "      <th>Total Claim Amount</th>\n",
       "      <th>map</th>\n",
       "    </tr>\n",
       "  </thead>\n",
       "  <tbody>\n",
       "    <tr>\n",
       "      <th>count</th>\n",
       "      <td>7825.000000</td>\n",
       "      <td>7825.000000</td>\n",
       "      <td>7825.000000</td>\n",
       "      <td>7825.000000</td>\n",
       "      <td>7825.000000</td>\n",
       "      <td>7825.000000</td>\n",
       "      <td>7825.000000</td>\n",
       "      <td>7825.000000</td>\n",
       "      <td>7825.0</td>\n",
       "    </tr>\n",
       "    <tr>\n",
       "      <th>mean</th>\n",
       "      <td>8020.399895</td>\n",
       "      <td>37506.448946</td>\n",
       "      <td>93.047412</td>\n",
       "      <td>15.163323</td>\n",
       "      <td>48.027604</td>\n",
       "      <td>0.388115</td>\n",
       "      <td>2.986709</td>\n",
       "      <td>431.998016</td>\n",
       "      <td>0.0</td>\n",
       "    </tr>\n",
       "    <tr>\n",
       "      <th>std</th>\n",
       "      <td>6916.824159</td>\n",
       "      <td>30753.268184</td>\n",
       "      <td>34.046690</td>\n",
       "      <td>10.120739</td>\n",
       "      <td>28.044899</td>\n",
       "      <td>0.910508</td>\n",
       "      <td>2.385320</td>\n",
       "      <td>297.736623</td>\n",
       "      <td>0.0</td>\n",
       "    </tr>\n",
       "    <tr>\n",
       "      <th>min</th>\n",
       "      <td>1898.007675</td>\n",
       "      <td>0.000000</td>\n",
       "      <td>61.000000</td>\n",
       "      <td>0.000000</td>\n",
       "      <td>0.000000</td>\n",
       "      <td>0.000000</td>\n",
       "      <td>1.000000</td>\n",
       "      <td>0.099007</td>\n",
       "      <td>0.0</td>\n",
       "    </tr>\n",
       "    <tr>\n",
       "      <th>25%</th>\n",
       "      <td>4015.340050</td>\n",
       "      <td>0.000000</td>\n",
       "      <td>68.000000</td>\n",
       "      <td>6.000000</td>\n",
       "      <td>24.000000</td>\n",
       "      <td>0.000000</td>\n",
       "      <td>1.000000</td>\n",
       "      <td>253.193647</td>\n",
       "      <td>0.0</td>\n",
       "    </tr>\n",
       "    <tr>\n",
       "      <th>50%</th>\n",
       "      <td>5813.242121</td>\n",
       "      <td>34087.000000</td>\n",
       "      <td>82.000000</td>\n",
       "      <td>14.000000</td>\n",
       "      <td>47.000000</td>\n",
       "      <td>0.000000</td>\n",
       "      <td>2.000000</td>\n",
       "      <td>376.923839</td>\n",
       "      <td>0.0</td>\n",
       "    </tr>\n",
       "    <tr>\n",
       "      <th>75%</th>\n",
       "      <td>8906.506090</td>\n",
       "      <td>62455.000000</td>\n",
       "      <td>109.000000</td>\n",
       "      <td>23.000000</td>\n",
       "      <td>72.000000</td>\n",
       "      <td>0.000000</td>\n",
       "      <td>4.000000</td>\n",
       "      <td>549.986128</td>\n",
       "      <td>0.0</td>\n",
       "    </tr>\n",
       "    <tr>\n",
       "      <th>max</th>\n",
       "      <td>74228.516040</td>\n",
       "      <td>99981.000000</td>\n",
       "      <td>298.000000</td>\n",
       "      <td>35.000000</td>\n",
       "      <td>99.000000</td>\n",
       "      <td>5.000000</td>\n",
       "      <td>9.000000</td>\n",
       "      <td>2893.239678</td>\n",
       "      <td>0.0</td>\n",
       "    </tr>\n",
       "  </tbody>\n",
       "</table>\n",
       "</div>"
      ],
      "text/plain": [
       "       Customer Lifetime Value        Income  Monthly Premium Auto  \\\n",
       "count              7825.000000   7825.000000           7825.000000   \n",
       "mean               8020.399895  37506.448946             93.047412   \n",
       "std                6916.824159  30753.268184             34.046690   \n",
       "min                1898.007675      0.000000             61.000000   \n",
       "25%                4015.340050      0.000000             68.000000   \n",
       "50%                5813.242121  34087.000000             82.000000   \n",
       "75%                8906.506090  62455.000000            109.000000   \n",
       "max               74228.516040  99981.000000            298.000000   \n",
       "\n",
       "       Months Since Last Claim  Months Since Policy Inception  \\\n",
       "count              7825.000000                    7825.000000   \n",
       "mean                 15.163323                      48.027604   \n",
       "std                  10.120739                      28.044899   \n",
       "min                   0.000000                       0.000000   \n",
       "25%                   6.000000                      24.000000   \n",
       "50%                  14.000000                      47.000000   \n",
       "75%                  23.000000                      72.000000   \n",
       "max                  35.000000                      99.000000   \n",
       "\n",
       "       Number of Open Complaints  Number of Policies  Total Claim Amount  \\\n",
       "count                7825.000000         7825.000000         7825.000000   \n",
       "mean                    0.388115            2.986709          431.998016   \n",
       "std                     0.910508            2.385320          297.736623   \n",
       "min                     0.000000            1.000000            0.099007   \n",
       "25%                     0.000000            1.000000          253.193647   \n",
       "50%                     0.000000            2.000000          376.923839   \n",
       "75%                     0.000000            4.000000          549.986128   \n",
       "max                     5.000000            9.000000         2893.239678   \n",
       "\n",
       "          map  \n",
       "count  7825.0  \n",
       "mean      0.0  \n",
       "std       0.0  \n",
       "min       0.0  \n",
       "25%       0.0  \n",
       "50%       0.0  \n",
       "75%       0.0  \n",
       "max       0.0  "
      ]
     },
     "execution_count": 81,
     "metadata": {},
     "output_type": "execute_result"
    }
   ],
   "source": [
    "insurance_norenew.describe()"
   ]
  },
  {
   "cell_type": "code",
   "execution_count": 86,
   "id": "cfa82ad3-2cc6-4166-bcff-37abd8787413",
   "metadata": {},
   "outputs": [
    {
     "data": {
      "text/plain": [
       "Marital Status  Location Code\n",
       "Divorced        Rural             245\n",
       "                Suburban          606\n",
       "                Urban             194\n",
       "Married         Rural            1131\n",
       "                Suburban         2439\n",
       "                Urban            1031\n",
       "Single          Rural             235\n",
       "                Suburban         1725\n",
       "                Urban             219\n",
       "Name: Customer, dtype: int64"
      ]
     },
     "execution_count": 86,
     "metadata": {},
     "output_type": "execute_result"
    }
   ],
   "source": [
    "insurance_norenew.groupby(['Marital Status','Location Code'])['Customer'].count()"
   ]
  },
  {
   "cell_type": "markdown",
   "id": "3f767a5a-a419-410c-a421-22247fa36c80",
   "metadata": {},
   "source": [
    "## Observation- Customer Retention  \n",
    "#Most of employed Married Suburban customers who had a basic coverage have decided to not renew their policy   \n",
    "#Most of customers who didnt renew had offer1 or offer2 as renewal offer type  "
   ]
  },
  {
   "cell_type": "code",
   "execution_count": 89,
   "id": "a597032d-0154-4bd6-aa27-e96f0f123a58",
   "metadata": {},
   "outputs": [
    {
     "data": {
      "text/plain": [
       "Coverage\n",
       "Basic       4770\n",
       "Extended    2351\n",
       "Premium      704\n",
       "Name: Customer, dtype: int64"
      ]
     },
     "execution_count": 89,
     "metadata": {},
     "output_type": "execute_result"
    }
   ],
   "source": [
    "insurance_norenew.groupby(['Coverage'])['Customer'].count()"
   ]
  },
  {
   "cell_type": "code",
   "execution_count": 92,
   "id": "5096e95c-3704-460c-9ffd-44312e1931ce",
   "metadata": {},
   "outputs": [
    {
     "data": {
      "text/plain": [
       "EmploymentStatus\n",
       "Disabled          333\n",
       "Employed         4941\n",
       "Medical Leave     354\n",
       "Retired            78\n",
       "Unemployed       2119\n",
       "Name: Customer, dtype: int64"
      ]
     },
     "execution_count": 92,
     "metadata": {},
     "output_type": "execute_result"
    }
   ],
   "source": [
    "insurance_norenew.groupby(['EmploymentStatus'])['Customer'].count()"
   ]
  },
  {
   "cell_type": "code",
   "execution_count": 93,
   "id": "10503ce6-43f1-44c1-9ecc-b5ab7948ff22",
   "metadata": {},
   "outputs": [
    {
     "data": {
      "text/plain": [
       "Renew Offer Type\n",
       "Offer1    3157\n",
       "Offer2    2242\n",
       "Offer3    1402\n",
       "Offer4    1024\n",
       "Name: Customer, dtype: int64"
      ]
     },
     "execution_count": 93,
     "metadata": {},
     "output_type": "execute_result"
    }
   ],
   "source": [
    "insurance_norenew.groupby(['Renew Offer Type'])['Customer'].count()"
   ]
  },
  {
   "cell_type": "code",
   "execution_count": null,
   "id": "0e59cc0c-18fc-482f-9e5b-7534bd7dcc87",
   "metadata": {},
   "outputs": [],
   "source": []
  }
 ],
 "metadata": {
  "kernelspec": {
   "display_name": "Python 3 (ipykernel)",
   "language": "python",
   "name": "python3"
  },
  "language_info": {
   "codemirror_mode": {
    "name": "ipython",
    "version": 3
   },
   "file_extension": ".py",
   "mimetype": "text/x-python",
   "name": "python",
   "nbconvert_exporter": "python",
   "pygments_lexer": "ipython3",
   "version": "3.11.7"
  }
 },
 "nbformat": 4,
 "nbformat_minor": 5
}
